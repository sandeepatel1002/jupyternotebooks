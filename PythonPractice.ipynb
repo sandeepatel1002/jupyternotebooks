{
  "cells": [
    {
      "cell_type": "markdown",
      "metadata": {
        "id": "view-in-github",
        "colab_type": "text"
      },
      "source": [
        "<a href=\"https://colab.research.google.com/github/sandeepatel1002/jupyternotebooks/blob/main/PythonPractice.ipynb\" target=\"_parent\"><img src=\"https://colab.research.google.com/assets/colab-badge.svg\" alt=\"Open In Colab\"/></a>"
      ]
    },
    {
      "cell_type": "code",
      "execution_count": null,
      "metadata": {
        "id": "L6JS2LDvakQ0"
      },
      "outputs": [],
      "source": [
        "# can use str in many ways\n",
        "# single quote\n",
        "# double quote\n",
        "# triple quote\n",
        "# \\t , \\n, \\\\, r\"\", f string"
      ]
    },
    {
      "cell_type": "code",
      "execution_count": null,
      "metadata": {
        "id": "mb8MCiOLbbML"
      },
      "outputs": [],
      "source": [
        "# type conversion errors\n",
        "# float to int\n",
        "# int to float etc"
      ]
    },
    {
      "cell_type": "code",
      "execution_count": null,
      "metadata": {
        "colab": {
          "background_save": true,
          "base_uri": "https://localhost:8080/"
        },
        "id": "__WLAZCUXqP_",
        "outputId": "4e66b677-717e-4a3a-b7e7-471f81613f21"
      },
      "outputs": [
        {
          "data": {
            "text/plain": [
              "4"
            ]
          },
          "execution_count": 9,
          "metadata": {},
          "output_type": "execute_result"
        }
      ],
      "source": [
        "a = 12\n",
        "b = 3\n",
        "c = int(a/b)\n",
        "c\n",
        "# for i in range(1,a/b):\n",
        "#   print(i)"
      ]
    },
    {
      "cell_type": "code",
      "source": [
        "city = 'indore'\n",
        "loc = city.index('d')\n",
        "print(loc)"
      ],
      "metadata": {
        "colab": {
          "base_uri": "https://localhost:8080/"
        },
        "id": "sYYU3EM49kr2",
        "outputId": "c830f098-45da-4ad2-e888-d5440f121061"
      },
      "execution_count": null,
      "outputs": [
        {
          "output_type": "stream",
          "name": "stdout",
          "text": [
            "2\n"
          ]
        }
      ]
    },
    {
      "cell_type": "code",
      "source": [
        "city1 = 'indodre'\n",
        "loc1 = [index for index,char in enumerate(city1) if char == 'd']\n",
        "print(loc1)"
      ],
      "metadata": {
        "colab": {
          "base_uri": "https://localhost:8080/"
        },
        "id": "RZMt74CAAVf5",
        "outputId": "6ae7f3ed-f4c1-4847-dd66-481eed271009"
      },
      "execution_count": null,
      "outputs": [
        {
          "output_type": "stream",
          "name": "stdout",
          "text": [
            "[2, 4]\n"
          ]
        }
      ]
    },
    {
      "cell_type": "code",
      "source": [
        "name = input('Enter your name ')\n",
        "age = int(input('Enter your age '))\n",
        "print(name+\" you are \"+ str(age)+ \" years old.\")"
      ],
      "metadata": {
        "colab": {
          "base_uri": "https://localhost:8080/"
        },
        "id": "acgBJydrBvlZ",
        "outputId": "182fba7e-a865-4abd-fad9-a914d9d728e7"
      },
      "execution_count": null,
      "outputs": [
        {
          "output_type": "stream",
          "name": "stdout",
          "text": [
            "Enter your name su\n",
            "Enter your age 45\n",
            "su you are 45 years old.\n"
          ]
        }
      ]
    },
    {
      "cell_type": "code",
      "source": [
        "name = input('Enter your name ')\n",
        "age = int(input('Enter your age '))\n",
        "print(name,\" you are \", age, \" years old.\")"
      ],
      "metadata": {
        "id": "_-3aWkFJEKOy"
      },
      "execution_count": null,
      "outputs": []
    },
    {
      "cell_type": "code",
      "execution_count": null,
      "metadata": {
        "id": "JMvWIwcEZvye",
        "colab": {
          "base_uri": "https://localhost:8080/"
        },
        "outputId": "f86dc714-9ec5-4406-fe24-ad5b74b41da5"
      },
      "outputs": [
        {
          "output_type": "stream",
          "name": "stdout",
          "text": [
            "Enter your name su\n",
            "Enter your age 43.4444\n",
            "su you are 43 years old.\n"
          ]
        }
      ],
      "source": [
        "name = input('Enter your name ')\n",
        "age = float(input('Enter your age '))\n",
        "print(f\"{name} you are {age:.0f} years old.\")\n"
      ]
    },
    {
      "cell_type": "code",
      "source": [
        "print('+',('-'*10),'+')\n",
        "print('|',(' '*10),'|')\n",
        "print('|',(' '*10),'|')\n",
        "print('+',('-'*10),'+')"
      ],
      "metadata": {
        "colab": {
          "base_uri": "https://localhost:8080/"
        },
        "id": "wwJYdHZFhfL6",
        "outputId": "c3bad332-9a36-4c7e-c838-2934e3c1bd53"
      },
      "execution_count": null,
      "outputs": [
        {
          "output_type": "stream",
          "name": "stdout",
          "text": [
            "+ ---------- +\n",
            "|            |\n",
            "|            |\n",
            "+ ---------- +\n"
          ]
        }
      ]
    },
    {
      "cell_type": "code",
      "source": [
        "for i in range(1,7):\n",
        "  print(i,end=\",\")"
      ],
      "metadata": {
        "colab": {
          "base_uri": "https://localhost:8080/"
        },
        "id": "3y4dnHWGoLrq",
        "outputId": "10458414-7a12-423e-ccdc-db92392fbb78"
      },
      "execution_count": null,
      "outputs": [
        {
          "output_type": "stream",
          "name": "stdout",
          "text": [
            "1,2,3,4,5,6,"
          ]
        }
      ]
    },
    {
      "cell_type": "code",
      "source": [
        "print('india always goes through playoffs but \\nloose in knockouts')"
      ],
      "metadata": {
        "colab": {
          "base_uri": "https://localhost:8080/"
        },
        "id": "hDFRI3J67MSn",
        "outputId": "e2f4c6a6-fbf6-426f-edb3-b5b5eddba378"
      },
      "execution_count": null,
      "outputs": [
        {
          "output_type": "stream",
          "name": "stdout",
          "text": [
            "india always goes through playoffs but \n",
            "loose in knockouts\n"
          ]
        }
      ]
    }
  ],
  "metadata": {
    "colab": {
      "provenance": [],
      "authorship_tag": "ABX9TyM9M72f8Lk3DVTnHdbPUUsb",
      "include_colab_link": true
    },
    "kernelspec": {
      "display_name": "Python 3",
      "name": "python3"
    },
    "language_info": {
      "name": "python"
    }
  },
  "nbformat": 4,
  "nbformat_minor": 0
}